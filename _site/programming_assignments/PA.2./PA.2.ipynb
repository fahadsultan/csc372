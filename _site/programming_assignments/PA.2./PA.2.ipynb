{
 "cells": [
  {
   "cell_type": "markdown",
   "id": "342acf38",
   "metadata": {},
   "source": [
    "<center>\n",
    "    <h1> CSC-343: ARTIFICIAL INTELLIGENCE </h1><br/>\n",
    "    <h1> PROGRAMMING ASSIGNMENT 2 </h1><br/>\n",
    "    <h1> FIRST-ORDER LOGIC (FOL) </h1><br/>\n",
    "        \n",
    "</center>"
   ]
  },
  {
   "cell_type": "markdown",
   "id": "f3a64950",
   "metadata": {},
   "source": [
    "<hr/>"
   ]
  },
  {
   "cell_type": "code",
   "execution_count": null,
   "id": "52573277",
   "metadata": {},
   "outputs": [],
   "source": [
    "from sent  import *\n",
    "from utils import *\n",
    "from kb    import *\n",
    "from cnf   import *\n",
    "from fol   import *"
   ]
  },
  {
   "cell_type": "markdown",
   "id": "39afee86",
   "metadata": {},
   "source": [
    "<hr/>"
   ]
  },
  {
   "cell_type": "markdown",
   "id": "09bdc171",
   "metadata": {},
   "source": [
    "# 0. Documentation"
   ]
  },
  {
   "cell_type": "markdown",
   "id": "fb343725",
   "metadata": {},
   "source": [
    "# 0.1. First-Order Logic Knowledge Bases: `FolKB` (in `folkb.py`)\n",
    "\n",
    "\n",
    "* The class `FolKB` can be used to represent a knowledge base of First-order logic sentences. \n",
    "\n",
    "\n",
    "* You would initialize and use it the same way as you would for `PropKB` <span style=\"color:red\"><u>**except that the clauses are first-order definite clauses.**</u></span>\n",
    "\n",
    "How to write such clauses to create a database and query them is given below: "
   ]
  },
  {
   "cell_type": "markdown",
   "id": "1966773c",
   "metadata": {},
   "source": [
    "## 0.1.1. Criminal KB (from class/textbook)\n",
    "\n",
    "In this section we create a `FolKB` based on the following paragraph, from class/textbook:<br/>\n",
    "\n",
    "> <em>The law says that it is a crime for an American to sell weapons to hostile nations. The country Nono, an enemy of America, has some missiles, and all of its missiles were sold to it by Colonel West, who is American.</em><br/>\n",
    "\n",
    "\n",
    "* The first step is to extract the facts and convert them into first-order definite clauses. \n",
    "\n",
    "\n",
    "* We'll store the clauses in list aptly named `clauses`."
   ]
  },
  {
   "cell_type": "code",
   "execution_count": null,
   "id": "15f4e317",
   "metadata": {},
   "outputs": [],
   "source": [
    "clauses = []"
   ]
  },
  {
   "cell_type": "markdown",
   "id": "519e1521",
   "metadata": {},
   "source": [
    "> <em>“... it is a crime for an American to sell weapons to hostile nations”</em><br/>\n",
    "\n",
    "The keywords to look for here are 'crime', 'American', 'sell', 'weapon' and 'hostile'. \n",
    "\n",
    "We use predicate symbols to make meaning of them.\n",
    "\n",
    "* `Criminal(x)`: `x` is a criminal\n",
    "* `American(x)`: `x` is an American\n",
    "* `Sells(x ,y, z)`: `x` sells `y` to `z`\n",
    "* `Weapon(x)`: `x` is a weapon\n",
    "* `Hostile(x)`: `x` is a hostile nation\n",
    "\n",
    "Let us now combine them with appropriate variable naming to depict the meaning of the sentence. \n",
    "\n",
    "The criminal `x` is also the American `x` who sells weapon `y` to `z`, which is a hostile nation:\n",
    "\n",
    "\n",
    "$$ \\text{American}(x) \\land \\text{Weapon}(y) \\land \\text{Sells}(x, y, z) \\land \\text{Hostile}(z) \\implies \\text{Criminal} (x)$$"
   ]
  },
  {
   "cell_type": "code",
   "execution_count": null,
   "id": "e857de9b",
   "metadata": {},
   "outputs": [],
   "source": [
    "clauses.append(sent(\"(American(x) & Weapon(y) & Sells(x, y, z) & Hostile(z)) ==> Criminal(x)\"))"
   ]
  },
  {
   "cell_type": "markdown",
   "id": "28408d72",
   "metadata": {},
   "source": [
    "> <em>\"The country Nono, an enemy of America\"</em><br/>\n",
    "\n",
    "We now know that Nono is an enemy of America. We represent these nations using the constant symbols `Nono` and `America`. the enemy relation is show using the predicate symbol `Enemy`.\n",
    "\n",
    "$$\\text{Enemy}(\\text{Nono}, \\text{America})$$"
   ]
  },
  {
   "cell_type": "code",
   "execution_count": null,
   "id": "f21bdee0",
   "metadata": {},
   "outputs": [],
   "source": [
    "clauses.append(sent(\"Enemy(Nono, America)\"))"
   ]
  },
  {
   "cell_type": "markdown",
   "id": "b4f1e4c9",
   "metadata": {},
   "source": [
    "<em>\"Nono ... has some missiles\"</em><br/>\n",
    "\n",
    "This states the existence of some missile which is owned by Nono. $\\exists x \\text{Owns}(\\text{Nono}, x) \\land \\text{Missile}(x)$. \n",
    "\n",
    "We invoke existential instantiation to introduce a new constant `M1` which is the missile owned by Nono.\n",
    "\n",
    "$$\\text{Owns}(\\text{Nono}, \\text{M1}), \\text{Missile}(\\text{M1})$$"
   ]
  },
  {
   "cell_type": "code",
   "execution_count": null,
   "id": "3d829b0d",
   "metadata": {},
   "outputs": [],
   "source": [
    "clauses.append(sent(\"Owns(Nono, M1)\"))\n",
    "clauses.append(sent(\"Missile(M1)\"))"
   ]
  },
  {
   "cell_type": "markdown",
   "id": "952d5f28",
   "metadata": {
    "collapsed": true
   },
   "source": [
    "<em>\"All of its missiles were sold to it by Colonel West\"</em><br/>\n",
    "\n",
    "If Nono owns something and it classifies as a missile, then it was sold to Nono by West.\n",
    "\n",
    "$$\\text{Missile}(x) \\land \\text{Owns}(\\text{Nono}, x) \\implies \\text{Sells}(\\text{West}, x, \\text{Nono})$$"
   ]
  },
  {
   "cell_type": "code",
   "execution_count": null,
   "id": "05e80c7b",
   "metadata": {},
   "outputs": [],
   "source": [
    "clauses.append(sent(\"(Missile(x) & Owns(Nono, x)) ==> Sells(West, x, Nono)\"))"
   ]
  },
  {
   "cell_type": "markdown",
   "id": "764fe473",
   "metadata": {},
   "source": [
    "<em>\"West, who is American\"</em><br/>\n",
    "\n",
    "West is an American.\n",
    "\n",
    "$$\\text{American}(\\text{West})$$"
   ]
  },
  {
   "cell_type": "code",
   "execution_count": null,
   "id": "7292dde5",
   "metadata": {},
   "outputs": [],
   "source": [
    "clauses.append(sent(\"American(West)\"))"
   ]
  },
  {
   "cell_type": "markdown",
   "id": "d78bf96a",
   "metadata": {},
   "source": [
    "We also know, from our understanding of language, that missiles are weapons and that an enemy of America counts as “hostile”.\n",
    "\n",
    "$$\\text{Missile}(x) \\implies \\text{Weapon}(x), \\text{Enemy}(x, \\text{America}) \\implies \\text{Hostile}(x)$$"
   ]
  },
  {
   "cell_type": "code",
   "execution_count": null,
   "id": "17a38471",
   "metadata": {},
   "outputs": [],
   "source": [
    "clauses.append(sent(\"Missile(x) ==> Weapon(x)\"))\n",
    "\n",
    "clauses.append(sent(\"Enemy(x, America) ==> Hostile(x)\"))"
   ]
  },
  {
   "cell_type": "markdown",
   "id": "d9d636fd",
   "metadata": {},
   "source": [
    "Now that we have converted the information into first-order definite clauses we can create our first-order logic knowledge base."
   ]
  },
  {
   "cell_type": "code",
   "execution_count": null,
   "id": "0ccdbac4",
   "metadata": {},
   "outputs": [],
   "source": [
    "crime_kb = FolKB(clauses)"
   ]
  },
  {
   "cell_type": "code",
   "execution_count": null,
   "id": "8a3d563f",
   "metadata": {},
   "outputs": [],
   "source": [
    "crime_kb.clauses"
   ]
  },
  {
   "cell_type": "markdown",
   "id": "a2dee92d",
   "metadata": {},
   "source": [
    "<hr/>"
   ]
  },
  {
   "cell_type": "markdown",
   "id": "bdb0ea97",
   "metadata": {},
   "source": [
    "# 0.2. Substitution"
   ]
  },
  {
   "cell_type": "markdown",
   "id": "2ed329e8",
   "metadata": {},
   "source": [
    "* The **`subst`** helper function substitutes variables with given values in first-order logic statements."
   ]
  },
  {
   "cell_type": "markdown",
   "id": "da79fde2",
   "metadata": {},
   "source": [
    "<img width=\"80%\" src=\"https://raw.githubusercontent.com/fahadsultan/csc343/main/assets/imgs/substitution.png\">"
   ]
  },
  {
   "cell_type": "markdown",
   "id": "06fff948",
   "metadata": {},
   "source": [
    "Here's an example of how **`subst`** can be used:"
   ]
  },
  {
   "cell_type": "markdown",
   "id": "ef915552",
   "metadata": {},
   "source": [
    "<img src=\"https://raw.githubusercontent.com/fahadsultan/csc343/main/assets/imgs/substitution1.png\">"
   ]
  },
  {
   "cell_type": "code",
   "execution_count": null,
   "id": "5a31cd51",
   "metadata": {},
   "outputs": [],
   "source": [
    "#Old Sentence with variables\n",
    "s = sent('Student(x)')\n",
    "\n",
    "#theta: dictionary mapping variables to terms \n",
    "theta = {s.args[0]: Symbol('Alice')}\n",
    "\n",
    "new_sentence_w_terms = subst(theta, s)\n",
    "\n",
    "print(\"Before substitution: \", s,     end='\\n\\n')\n",
    "print(\"Theta:\",                theta, end='\\n\\n')\n",
    "print(\"After  substitution: \", new_sentence_w_terms)"
   ]
  },
  {
   "cell_type": "markdown",
   "id": "0355a261",
   "metadata": {},
   "source": [
    "<img src=\"https://raw.githubusercontent.com/fahadsultan/csc343/main/assets/imgs/substitution2.png\">"
   ]
  },
  {
   "cell_type": "code",
   "execution_count": null,
   "id": "6642c312",
   "metadata": {},
   "outputs": [],
   "source": [
    "#Old Sentence with variables\n",
    "s = sent('Student(x) & Takes(x, y)')\n",
    " \n",
    "theta = {Symbol('x'): Symbol('Alice'), Symbol('y'): Symbol('CSC343')}\n",
    "\n",
    "new_sentence_w_terms = subst(theta, s)\n",
    "\n",
    "print(\"Before substitution: \", s,     end='\\n\\n')\n",
    "print(\"Theta:\",                theta, end='\\n\\n')\n",
    "print(\"After  substitution: \", new_sentence_w_terms)"
   ]
  },
  {
   "cell_type": "markdown",
   "id": "76d8c172",
   "metadata": {},
   "source": [
    "# 0.3.  Unification\n",
    "\n",
    "* We sometimes require finding substitutions that make different logical sentences look identical. \n",
    "\n",
    "\n",
    "* This process, called **unification**, is done by the `unify` function.\n",
    "\n",
    "\n",
    "* It takes as input two sentences and returns a <em>unifier</em> for them if one exists. \n",
    "\n",
    "\n",
    "* A unifier is a dictionary which stores the substitutions required to make the two sentences identical. \n",
    "\n",
    "\n",
    "* It does so by recursively unifying the components of a sentence, where the unification of a variable symbol `var` with a constant symbol `Const` is the mapping `{var: Const}`."
   ]
  },
  {
   "cell_type": "markdown",
   "id": "b1218007",
   "metadata": {},
   "source": [
    "<img width=\"80%\" src=\"https://raw.githubusercontent.com/fahadsultan/csc343/main/assets/imgs/unification.png\">"
   ]
  },
  {
   "cell_type": "markdown",
   "id": "cda80630",
   "metadata": {},
   "source": [
    "<img src=\"https://raw.githubusercontent.com/fahadsultan/csc343/main/assets/imgs/unification1.png\">"
   ]
  },
  {
   "cell_type": "code",
   "execution_count": null,
   "id": "02e2d5d7",
   "metadata": {},
   "outputs": [],
   "source": [
    "s1 = sent('Knows(Alice, FOL)')\n",
    "s2 = sent('Knows(x, FOL)')\n",
    "theta = unify(s1, s2)\n",
    "\n",
    "print(theta)\n",
    "\n",
    "print(subst(s1, theta) == subst(s2, theta))"
   ]
  },
  {
   "cell_type": "markdown",
   "id": "adf6b7e7",
   "metadata": {},
   "source": [
    "<img src=\"https://raw.githubusercontent.com/fahadsultan/csc343/main/assets/imgs/unification2.png\">"
   ]
  },
  {
   "cell_type": "code",
   "execution_count": null,
   "id": "336122db",
   "metadata": {},
   "outputs": [],
   "source": [
    "s1 = sent('Knows(Alice, y)')\n",
    "s2 = sent('Knows(x, z)')\n",
    "\n",
    "theta = unify(s1, s2)\n",
    "\n",
    "print(theta)\n",
    "\n",
    "print(subst(s1, theta) == subst(s2, theta))"
   ]
  },
  {
   "cell_type": "markdown",
   "id": "cbe069ac",
   "metadata": {},
   "source": [
    "<img src=\"https://raw.githubusercontent.com/fahadsultan/csc343/main/assets/imgs/unification3.png\">"
   ]
  },
  {
   "cell_type": "code",
   "execution_count": null,
   "id": "5d0008dd",
   "metadata": {},
   "outputs": [],
   "source": [
    "s1 = sent('Knows(Alice, y)')\n",
    "s2 = sent('Knows(x, F(x))')\n",
    "\n",
    "theta = unify(s1, s2)\n",
    "\n",
    "print(theta)\n",
    "\n",
    "print(subst(s1, theta) == subst(s2, theta))"
   ]
  },
  {
   "cell_type": "markdown",
   "id": "8842c3e0",
   "metadata": {},
   "source": [
    "<img src=\"https://raw.githubusercontent.com/fahadsultan/csc343/main/assets/imgs/unification4.png\">"
   ]
  },
  {
   "cell_type": "code",
   "execution_count": null,
   "id": "b509b067",
   "metadata": {},
   "outputs": [],
   "source": [
    "s1 = sent('Knows(Alice, y)')\n",
    "s2 = sent('Knows(Bob, y)')\n",
    "theta = unify(s1, s2)\n",
    "\n",
    "print(theta)"
   ]
  },
  {
   "cell_type": "markdown",
   "id": "50f24fab",
   "metadata": {},
   "source": [
    "# 0.4 Standardizing Variables"
   ]
  },
  {
   "cell_type": "markdown",
   "id": "41ac7c8f",
   "metadata": {},
   "source": [
    "<img width=\"80%\" src=\"https://raw.githubusercontent.com/fahadsultan/csc343/main/assets/imgs/standardizing.png\">"
   ]
  },
  {
   "cell_type": "code",
   "execution_count": null,
   "id": "1a63b582",
   "metadata": {},
   "outputs": [],
   "source": [
    "s1 = sent(\"Knows(Alice, x)\")\n",
    "s2 = sent(\"Knows(x, FOL)\")\n",
    "\n",
    "theta = unify(s1, s2)\n",
    "print(\"Before standardizing, unification fails. Theta: \", theta, end=\"\\n\\n\")\n",
    "\n",
    "s3 = standardize_variables(s2)\n",
    "\n",
    "theta = unify(s1, s3)\n",
    "print(\"After standardizing `\", s2,\"`, new sentence: `\", s3, \"`\", end=\"\\n\\n\", sep=\"\")\n",
    "print(\"After standardizing, unification succeeds. Theta: \", theta)"
   ]
  },
  {
   "cell_type": "markdown",
   "id": "2639af22",
   "metadata": {},
   "source": [
    "# Q. Implement the Forward Chaining Inference Algorithm "
   ]
  },
  {
   "cell_type": "markdown",
   "id": "4a90996c",
   "metadata": {},
   "source": [
    "Basic steps of the Forward Chaining algorithm: \n",
    "\n",
    "1. We look at each rule in the knowledge base and see if the premises can be satisfied.\n",
    "\n",
    "\n",
    "2. This is done by finding a substitution which unifies each of the premise with a clause in the `KB`. \n",
    "\n",
    "\n",
    "3. If we are able to unify the premises, the conclusion (with the corresponding substitution) is added to the `KB`. \n",
    "\n",
    "\n",
    "4. This inferencing process is repeated until either the query can be answered or till no new sentences can be added.\n",
    "\n",
    "\n",
    "5. We test if the newly added clause unifies with the query in which case the substitution yielded by `unify` is an answer to the query. If we run out of sentences to infer, this means the query was a failure.\n",
    "\n",
    "\n",
    "<b><span style=\"color:red;\">Please note that function `fol_fc_ask` does not simply return `True` or `False`</span>\n",
    " \n",
    "<span style=\"color:red;\">It returns all substitutions which validate the query</span></b>.\n",
    "\n",
    "The pseudocode for the forward-chaining algorithm is given below: "
   ]
  },
  {
   "cell_type": "markdown",
   "id": "5fdc743c",
   "metadata": {},
   "source": [
    "<img src=\"https://raw.githubusercontent.com/fahadsultan/csc343/main/assets/imgs/forward_chaining.png\">"
   ]
  },
  {
   "cell_type": "markdown",
   "id": "9f21019b",
   "metadata": {},
   "source": [
    "Let's find out all the hostile nations. Note that we only told the `KB` that Nono was an enemy of America, not that it was hostile."
   ]
  },
  {
   "cell_type": "code",
   "execution_count": null,
   "id": "b0ef16de",
   "metadata": {},
   "outputs": [],
   "source": [
    "kb_consts = list({c for clause in KB.clauses for c in constant_symbols(clause)})\n",
    "def enum_subst(p):\n",
    "    query_vars = list({v for clause in p for v in variables(clause)})\n",
    "    for assignment_list in itertools.product(kb_consts, repeat=len(query_vars)):\n",
    "        theta = {x: y for x, y in zip(query_vars, assignment_list)}\n",
    "        yield theta"
   ]
  },
  {
   "cell_type": "code",
   "execution_count": null,
   "id": "c8901fdd",
   "metadata": {},
   "outputs": [],
   "source": [
    "def fol_fc_ask(KB, alpha):\n"
   ]
  },
  {
   "cell_type": "code",
   "execution_count": null,
   "id": "2dfef842",
   "metadata": {},
   "outputs": [],
   "source": [
    "crime_kb = FolKB(map(sent, ['(American(x) & Weapon(y) & Sells(x, y, z) & Hostile(z)) ==> Criminal(x)',\n",
    "                            'Owns(Nono, M1)',\n",
    "                            'Missile(M1)',\n",
    "                            '(Missile(x) & Owns(Nono, x)) ==> Sells(West, x, Nono)',\n",
    "                            'Missile(x) ==> Weapon(x)',\n",
    "                            'Enemy(x, America) ==> Hostile(x)',\n",
    "                            'American(West)',\n",
    "                            'Enemy(Nono, America)']))\n",
    "\n",
    "answer = fol_fc_ask(crime_kb, sent('Hostile(x)'))\n",
    "\n",
    "print(list(answer)) # The answer should be [{x: Nono}]\n",
    "\n",
    "answer = fol_fc_ask(crime_kb, sent('Criminal(x)'))\n",
    "\n",
    "print(list(answer)) # The answer should be [{x: West}]  "
   ]
  },
  {
   "cell_type": "markdown",
   "id": "e3b5ca94",
   "metadata": {},
   "source": [
    "<hr />"
   ]
  },
  {
   "cell_type": "markdown",
   "id": "f1002b0c",
   "metadata": {},
   "source": [
    "\n",
    "\n",
    "# _Documentation from previous labs:_"
   ]
  },
  {
   "cell_type": "markdown",
   "id": "c8ef1b1e",
   "metadata": {},
   "source": [
    "## 0.1. `sent.py`"
   ]
  },
  {
   "cell_type": "markdown",
   "id": "5b062b0e",
   "metadata": {},
   "source": [
    "You are given a python file `sent.py`\n",
    "\n",
    "This file contains a class `Sent`\n",
    "\n",
    " **`Sent`**: A PL sentence with an operator `op` and 0 or more arguments `args`.\\\n",
    "    `op` is a str like `'+'` or `'sin'`;\\\n",
    "    `args` are Sentences.\\\n",
    "    \\\n",
    "    `Sent('x')` or `Symbol('x')` creates a symbol (a nullary Sent).\\\n",
    "    `Sent('-', x)` creates a unary sentence; \\\n",
    "    `Sent('+', x, 1)` creates a binary sentence.\n",
    "\n",
    "**`Symbol`** is not an explicit type; it is any `Sent` with 0 `args`.\n",
    "\n",
    "### Creating Symbols\n",
    "\n",
    "`sent.py` comes with a function `Symbol(...)` that takes in as input name of the propositional symbol you want to create (string type; <u><i>please start names with uppercase letters</i></u>) and returns an object of type `Sent` with 0 `args` and `op` equal to the provided name. "
   ]
  },
  {
   "cell_type": "markdown",
   "id": "43097de0",
   "metadata": {},
   "source": [
    "### Creating PL Sentences:\n",
    "\n",
    "There are **three ways** of constructing sentences: \n",
    "\n",
    "1. Infix notation\n",
    "\n",
    "2. `Sent` constructor\n",
    "\n",
    "3. `sent(...)` method\n",
    "\n",
    "The first _two_ methods are shown in the table below, in the third and fifth columns respectively.\n",
    "\n",
    "Here is a table of the operators that can be used to form sentences. \n",
    "\n",
    "<!-- Note that we have a problem: we want to use Python operators to make sentences, so that our programs (and our interactive sessions like the one here) will show simple code. But Python does not allow implication arrows as operators, so for now we have to use a more verbose notation that Python does allow: `|'==>'|` instead of just `==>`. Alternately, you can always use the more verbose `Sent` constructor forms:\n",
    " -->\n",
    "| Operation                | Textbook<br/>/Slides | Python<br/> INFIX<br/> NOTATION | Python<br/>Output | Python<br/>`Sent`<br/>CONSTRUCTOR\n",
    "|--------------------------|----------------------|-------------------------|---|---|\n",
    "| Negation                 | &not; P      | `~P`                       | `~P` | `Sent('~', P)`\n",
    "| And                      | P &and; Q       | `P & Q`                     | `P & Q` | `Sent('&', P, Q)`\n",
    "| Or                       | P &or; Q | `P`<tt> &#124; </tt>`Q`| `P`<tt> &#124; </tt>`Q` | `Sent('`&#124;`', P, Q)`\n",
    "| Inequality (Xor)         | P &ne; Q     | `P ^ Q`                | `P ^ Q`  | `Sent('^', P, Q)`\n",
    "| Implication                  | P &rarr; Q    | `P` <tt>&#124;</tt>`'==>'`<tt>&#124;</tt> `Q`   | `P ==> Q` | `Sent('==>', P, Q)`\n",
    "| Reverse Implication      | Q &larr; P     | `Q` <tt>&#124;</tt>`'<=='`<tt>&#124;</tt> `P`  |`Q <== P` | `Sent('<==', Q, P)`\n",
    "| Equivalence            | P &harr; Q   | `P` <tt>&#124;</tt>`'<=>'`<tt>&#124;</tt> `Q`   |`P <=> Q` | `Sent('<=>', P, Q)`\n",
    "\n",
    "Note that there are two operators we haven't covered in class:  Reverse Implication `<==` and Inequality (aka Xor) `^`.\n",
    "\n",
    "**You are to implement these yourself**; the truth table for them is as follows: \n",
    "\n",
    "    \n",
    "| P | Q | | P `<==` Q | | P `^` Q |\n",
    "|--------------------------|-|----------------------|-|-------------------------|---|\n",
    "| T | T | | T | | F | \n",
    "| T | F | | T | | T | \n",
    "| F | T | | F | | T | \n",
    "| F | F | | T | | F |  "
   ]
  },
  {
   "cell_type": "markdown",
   "id": "6e2d8e6d",
   "metadata": {},
   "source": [
    "**`sent(..)`** function provides a third way of making PL sentences here. \n",
    "\n",
    "The `sent` function takes in one input: \n",
    "* a string representing a PL sentence in the infix notation \n",
    "\n",
    "and returns \n",
    "* a `Sent` object for that sentence. For example, "
   ]
  },
  {
   "cell_type": "code",
   "execution_count": null,
   "id": "905bc089",
   "metadata": {},
   "outputs": [],
   "source": [
    "from sent  import *\n",
    "from utils import *\n",
    "from kb    import *\n",
    "from cnf   import *\n",
    "\n",
    "p = Symbol('P')\n",
    "print(\"0. Creating a propositional symbol P:\\t\\t\", p, \"\\n\")\n",
    "print(\"Type of prop symbol P:\\t\\t\", type(p))\n",
    "\n",
    "p = Symbol('P')\n",
    "print(\"Arguments of prop symbol P:\\t\", p.args)\n",
    "print(\"Operator  of prop symbol P:\\t\", p.op)\n",
    "\n",
    "print()\n",
    "\n",
    "q = Symbol('Q') \n",
    "# P OR Q \n",
    "\n",
    "s = Sent('|', p, q)\n",
    "print(\"1. Creating a sentence s, using Sent:\\t\\t\", s, \"\\n\")\n",
    "print(\"Type       of sentence `s`:\\t\", type(s))\n",
    "print(\"Argument 1 of sentence `s`:\\t\", s.args[0])\n",
    "print(\"Argument 2 of sentence `s`:\\t\", s.args[1])\n",
    "print(\"Operator   of sentence `s`:\\t\", s.op)\n",
    "\n",
    "print()\n",
    "\n",
    "s = p | q\n",
    "print(\"2. Creating a sentence s, using infix notation:\\t\", s, \"\\n\")\n",
    "print(\"Type       of sentence `s`:\\t\", type(s))\n",
    "print(\"Argument 1 of sentence `s`:\\t\", s.args[0])\n",
    "print(\"Argument 2 of sentence `s`:\\t\", s.args[1])\n",
    "print(\"Operator   of sentence `s`:\\t\", s.op)\n",
    "\n",
    "print()\n",
    "\n",
    "s = sent('~(P & Q)  ==>  (~P | ~Q)')\n",
    "print(\"3. Creating the sentence s, using sent method:\\t\", s, \"\\n\")\n",
    "print(\"Type       of sentence `s`:\\t\", type(s))\n",
    "print(\"Argument 1 of sentence `s`:\\t\", s.args[0])\n",
    "print(\"Argument 2 of sentence `s`:\\t\", s.args[1])\n",
    "print(\"Operator   of sentence `s`:\\t\", s.op)"
   ]
  },
  {
   "cell_type": "markdown",
   "id": "f6ca85e9",
   "metadata": {},
   "source": [
    "## 0.2. `utils.py`"
   ]
  },
  {
   "cell_type": "markdown",
   "id": "52944879",
   "metadata": {},
   "source": [
    "The other file you are given is `utils.py` which contains the following functions you might need in your implementation of `pl_true` and `tt_entails`: \n",
    "    \n",
    "* **`extend`** takes three inputs: i. `dict` (dictionary) object ii. `key` iii. `value` and returns an _extended_ dictionary that has all key-value pairs from the input dictionary AND the new `key:value` pair. The extended dictionary that is returned is a new object and leaves the input dictionary unchanged. \n",
    "\n",
    "\n",
    "* **`is_prop_symbol`** takes as input an operator of a sentence and returns True if it is a propositional symbol and False otherwise. \n",
    "\n",
    "\n",
    "* **`prop_symbols`** takes as input a sentence and returns a list of all the propositional symbols in it. "
   ]
  },
  {
   "cell_type": "markdown",
   "id": "0f658cbb",
   "metadata": {},
   "source": [
    "## 0.3. `kb.py`"
   ]
  },
  {
   "cell_type": "markdown",
   "id": "ef669f93",
   "metadata": {},
   "source": [
    "A PL knowledge base to which you can `tell` and `ask_if_true` sentences."
   ]
  },
  {
   "cell_type": "markdown",
   "id": "178ade69",
   "metadata": {},
   "source": [
    "## 0.4. `cnf.py`"
   ]
  },
  {
   "cell_type": "markdown",
   "id": "512c6426",
   "metadata": {},
   "source": [
    "Contains a set of functions: `to_cnf`, `eliminate_implications`, `move_not_inwards` and `distribute_and_over_or` for converting any sentence to CNF form. \n"
   ]
  },
  {
   "cell_type": "markdown",
   "id": "d8d429a4",
   "metadata": {},
   "source": [
    "<hr/>"
   ]
  }
 ],
 "metadata": {
  "kernelspec": {
   "display_name": "Python 3 (ipykernel)",
   "language": "python",
   "name": "python3"
  },
  "language_info": {
   "codemirror_mode": {
    "name": "ipython",
    "version": 3
   },
   "file_extension": ".py",
   "mimetype": "text/x-python",
   "name": "python",
   "nbconvert_exporter": "python",
   "pygments_lexer": "ipython3",
   "version": "3.9.12"
  }
 },
 "nbformat": 4,
 "nbformat_minor": 5
}
